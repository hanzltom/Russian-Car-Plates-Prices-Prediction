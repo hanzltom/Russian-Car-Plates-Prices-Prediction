{
 "cells": [
  {
   "cell_type": "code",
   "id": "initial_id",
   "metadata": {
    "collapsed": true,
    "ExecuteTime": {
     "end_time": "2025-05-25T07:58:19.961665Z",
     "start_time": "2025-05-25T07:58:18.880792Z"
    }
   },
   "source": [
    "import pandas as pd\n",
    "import matplotlib.pyplot as plt\n",
    "import numpy as np\n",
    "import seaborn as sns\n",
    "from sklearn.linear_model import LinearRegression\n",
    "from sklearn.neighbors import NearestNeighbors\n",
    "from sklearn.model_selection import train_test_split, GridSearchCV\n",
    "from sklearn.metrics import mean_squared_error, root_mean_squared_error\n",
    "\n",
    "\n",
    "from supplemental_english import REGION_CODES, GOVERNMENT_CODES\n"
   ],
   "outputs": [],
   "execution_count": 1
  },
  {
   "metadata": {
    "ExecuteTime": {
     "end_time": "2025-05-25T07:58:20.067558Z",
     "start_time": "2025-05-25T07:58:19.989820Z"
    }
   },
   "cell_type": "code",
   "source": [
    "df_raw = pd.read_csv('train.csv')\n",
    "print(df_raw.info())\n",
    "df_raw.head(10)"
   ],
   "id": "d803a28d8afb4725",
   "outputs": [
    {
     "name": "stdout",
     "output_type": "stream",
     "text": [
      "<class 'pandas.core.frame.DataFrame'>\n",
      "RangeIndex: 51635 entries, 0 to 51634\n",
      "Data columns (total 4 columns):\n",
      " #   Column  Non-Null Count  Dtype \n",
      "---  ------  --------------  ----- \n",
      " 0   id      51635 non-null  int64 \n",
      " 1   plate   51635 non-null  object\n",
      " 2   date    51635 non-null  object\n",
      " 3   price   51635 non-null  int64 \n",
      "dtypes: int64(2), object(2)\n",
      "memory usage: 1.6+ MB\n",
      "None\n"
     ]
    },
    {
     "data": {
      "text/plain": [
       "   id      plate                 date   price\n",
       "0   1  X059CP797  2024-12-26 00:00:00   65000\n",
       "1   2  Y800MH790  2024-07-12 21:31:37  100000\n",
       "2   3   A212TX77  2024-04-18 00:00:00  290000\n",
       "3   4  P001AY199  2025-01-03 00:27:15  680000\n",
       "4   5  P001AY199  2025-01-10 09:32:41  750000\n",
       "5   6  B400BB750  2022-04-09 00:00:00   50000\n",
       "6   7  P666OM790  2024-11-14 00:00:00  300000\n",
       "7   8  C080KP777  2021-06-10 12:30:00  300000\n",
       "8   9  E737AY550  2024-07-31 00:00:00   60000\n",
       "9  10  C001KK750  2024-07-09 08:48:39  420000"
      ],
      "text/html": [
       "<div>\n",
       "<style scoped>\n",
       "    .dataframe tbody tr th:only-of-type {\n",
       "        vertical-align: middle;\n",
       "    }\n",
       "\n",
       "    .dataframe tbody tr th {\n",
       "        vertical-align: top;\n",
       "    }\n",
       "\n",
       "    .dataframe thead th {\n",
       "        text-align: right;\n",
       "    }\n",
       "</style>\n",
       "<table border=\"1\" class=\"dataframe\">\n",
       "  <thead>\n",
       "    <tr style=\"text-align: right;\">\n",
       "      <th></th>\n",
       "      <th>id</th>\n",
       "      <th>plate</th>\n",
       "      <th>date</th>\n",
       "      <th>price</th>\n",
       "    </tr>\n",
       "  </thead>\n",
       "  <tbody>\n",
       "    <tr>\n",
       "      <th>0</th>\n",
       "      <td>1</td>\n",
       "      <td>X059CP797</td>\n",
       "      <td>2024-12-26 00:00:00</td>\n",
       "      <td>65000</td>\n",
       "    </tr>\n",
       "    <tr>\n",
       "      <th>1</th>\n",
       "      <td>2</td>\n",
       "      <td>Y800MH790</td>\n",
       "      <td>2024-07-12 21:31:37</td>\n",
       "      <td>100000</td>\n",
       "    </tr>\n",
       "    <tr>\n",
       "      <th>2</th>\n",
       "      <td>3</td>\n",
       "      <td>A212TX77</td>\n",
       "      <td>2024-04-18 00:00:00</td>\n",
       "      <td>290000</td>\n",
       "    </tr>\n",
       "    <tr>\n",
       "      <th>3</th>\n",
       "      <td>4</td>\n",
       "      <td>P001AY199</td>\n",
       "      <td>2025-01-03 00:27:15</td>\n",
       "      <td>680000</td>\n",
       "    </tr>\n",
       "    <tr>\n",
       "      <th>4</th>\n",
       "      <td>5</td>\n",
       "      <td>P001AY199</td>\n",
       "      <td>2025-01-10 09:32:41</td>\n",
       "      <td>750000</td>\n",
       "    </tr>\n",
       "    <tr>\n",
       "      <th>5</th>\n",
       "      <td>6</td>\n",
       "      <td>B400BB750</td>\n",
       "      <td>2022-04-09 00:00:00</td>\n",
       "      <td>50000</td>\n",
       "    </tr>\n",
       "    <tr>\n",
       "      <th>6</th>\n",
       "      <td>7</td>\n",
       "      <td>P666OM790</td>\n",
       "      <td>2024-11-14 00:00:00</td>\n",
       "      <td>300000</td>\n",
       "    </tr>\n",
       "    <tr>\n",
       "      <th>7</th>\n",
       "      <td>8</td>\n",
       "      <td>C080KP777</td>\n",
       "      <td>2021-06-10 12:30:00</td>\n",
       "      <td>300000</td>\n",
       "    </tr>\n",
       "    <tr>\n",
       "      <th>8</th>\n",
       "      <td>9</td>\n",
       "      <td>E737AY550</td>\n",
       "      <td>2024-07-31 00:00:00</td>\n",
       "      <td>60000</td>\n",
       "    </tr>\n",
       "    <tr>\n",
       "      <th>9</th>\n",
       "      <td>10</td>\n",
       "      <td>C001KK750</td>\n",
       "      <td>2024-07-09 08:48:39</td>\n",
       "      <td>420000</td>\n",
       "    </tr>\n",
       "  </tbody>\n",
       "</table>\n",
       "</div>"
      ]
     },
     "execution_count": 2,
     "metadata": {},
     "output_type": "execute_result"
    }
   ],
   "execution_count": 2
  },
  {
   "metadata": {
    "ExecuteTime": {
     "end_time": "2025-05-25T07:58:20.493517Z",
     "start_time": "2025-05-25T07:58:20.484588Z"
    }
   },
   "cell_type": "code",
   "source": [
    "region_codes_to_region = {}\n",
    "for key, val in REGION_CODES.items():\n",
    "    if type(val) == list:\n",
    "        for v in val:\n",
    "            region_codes_to_region[v] = key\n",
    "    else:\n",
    "        region_codes_to_region[val] = key\n",
    "        \n",
    "def get_region(plate):\n",
    "    region_code = plate[6:]\n",
    "    if region_codes_to_region[region_code]:\n",
    "        return region_codes_to_region[region_code]\n",
    "    else:\n",
    "        return np.nan \n",
    "\n",
    "def get_government(plate):\n",
    "    num_range = int(plate[1:4])\n",
    "    letters = plate[0] + plate[4:6]\n",
    "    regionCodes = plate[6:]\n",
    "    \n",
    "    for key, value in GOVERNMENT_CODES.items():\n",
    "        key_letter, (start, end), key_region = key\n",
    "        if letters == key_letter and regionCodes == key_region and int(start) <= num_range <= int(end):\n",
    "            return value\n",
    "    return (np.nan, np.nan, np.nan, np.nan)\n"
   ],
   "id": "520cb3421ae4e497",
   "outputs": [],
   "execution_count": 3
  },
  {
   "metadata": {
    "ExecuteTime": {
     "end_time": "2025-05-25T07:58:20.691897Z",
     "start_time": "2025-05-25T07:58:20.681845Z"
    }
   },
   "cell_type": "code",
   "source": [
    "def preprocess(df_raw):\n",
    "    df = df_raw.copy()\n",
    "    df[\"region\"] = df[\"plate\"].apply(get_region)\n",
    "    df[['text', 'forbidenToBuy', 'advantageOnRoad', 'significance']] = df['plate'].apply(get_government).apply(pd.Series)\n",
    "    \n",
    "    df.drop(\"text\", axis=1, inplace=True)\n",
    "    df.drop(\"id\", axis=1, inplace=True)\n",
    "    df.fillna(0, inplace=True) # Most of the newly added columns have NaN values, we will replace it with 0, since they are mostly binary and categorical(significance)\n",
    "    \n",
    "    df[\"date\"] = df[\"date\"].astype('datetime64[ns]')\n",
    "    df[\"year\"] = df[\"date\"].dt.year\n",
    "    df[\"month\"] = df[\"date\"].dt.month\n",
    "    df[\"day\"] = df[\"date\"].dt.day\n",
    "    df[\"day_of_week\"] = df[\"date\"].dt.dayofweek\n",
    "    df.drop(\"date\", axis=1, inplace=True)\n",
    "    \n",
    "    df[\"same_number_first\"] = df[\"plate\"].apply(lambda x: x[1] == x[2] == x[3])\n",
    "    df[\"same_number_second\"] = df[\"plate\"].apply(lambda x: x[6] == x[7] == x[8] if len(x) == 9 else x[6] == x[7])\n",
    "    df[\"matching_numbers\"] = df[\"plate\"].apply(lambda x: x[1:4] == x[6:])\n",
    "    df[\"palindrom_numbers_first\"] = df[\"plate\"].apply(lambda x: x[1:4] == x[1:4][::-1])\n",
    "    df[\"palindrom_numbers_second\"] = df[\"plate\"].apply(lambda x: x[6:] == x[6:][::-1])\n",
    "    df[\"palidrom_all_numbers\"] = df[\"plate\"].apply(lambda x: x[1:4] + x[6:] == str(x[1:4] + x[6:])[::-1])\n",
    "    df[\"cool_number\"] = df[\"plate\"].apply(lambda x: x[1:4] in [\"001\", \"007\", \"100\", \"200\", \"300\", \"400\", \"500\", \"600\", \"700\", \"800\", \"900\"])\n",
    "    \n",
    "    df[\"one_unique_letter\"] = df[\"plate\"].apply(lambda x: len(set(x[0] + x[4:6])) == 1)\n",
    "    \n",
    "    df[\"plate\"] = df[\"plate\"].astype('category')\n",
    "    df[\"region\"] = df[\"region\"].astype('category')\n",
    "    df[\"forbidenToBuy\"] = df[\"forbidenToBuy\"].astype('bool')\n",
    "    df[\"advantageOnRoad\"] = df[\"advantageOnRoad\"].astype('bool')\n",
    "    df[\"significance\"] = df[\"significance\"].astype('int')\n",
    "    df[\"year\"] = df[\"year\"].astype('int')\n",
    "    df[\"month\"] = df[\"month\"].astype('int')\n",
    "    df[\"day\"] = df[\"day\"].astype('int')\n",
    "    df[\"day_of_week\"] = df[\"day_of_week\"].astype('int')\n",
    "    df[\"same_number_first\"] = df[\"same_number_first\"].astype('bool')\n",
    "    df[\"same_number_second\"] = df[\"same_number_second\"].astype('bool')\n",
    "    df[\"matching_numbers\"] = df[\"matching_numbers\"].astype('bool')\n",
    "    df[\"palindrom_numbers_first\"] = df[\"palindrom_numbers_first\"].astype('bool')\n",
    "    df[\"palindrom_numbers_second\"] = df[\"palindrom_numbers_second\"].astype('bool')\n",
    "    df[\"palidrom_all_numbers\"] = df[\"palidrom_all_numbers\"].astype('bool')\n",
    "    df[\"one_unique_letter\"] = df[\"one_unique_letter\"].astype('bool')\n",
    "    \n",
    "    return df\n"
   ],
   "id": "1620142461b3237",
   "outputs": [],
   "execution_count": 4
  },
  {
   "metadata": {
    "ExecuteTime": {
     "end_time": "2025-05-25T07:58:25.109001Z",
     "start_time": "2025-05-25T07:58:20.836943Z"
    }
   },
   "cell_type": "code",
   "source": [
    "df = preprocess(df_raw)\n",
    "display(df)\n",
    "display(df.info())"
   ],
   "id": "f638b12aad05041d",
   "outputs": [
    {
     "data": {
      "text/plain": [
       "           plate    price         region  forbidenToBuy  advantageOnRoad  \\\n",
       "0      X059CP797    65000         Moscow          False            False   \n",
       "1      Y800MH790   100000  Moscow Oblast          False            False   \n",
       "2       A212TX77   290000         Moscow          False            False   \n",
       "3      P001AY199   680000         Moscow          False            False   \n",
       "4      P001AY199   750000         Moscow          False            False   \n",
       "...          ...      ...            ...            ...              ...   \n",
       "51630  X023PP797    70000         Moscow          False            False   \n",
       "51631  M004KA161  1600000  Rostov Oblast          False            False   \n",
       "51632  E888EB199   850000         Moscow          False            False   \n",
       "51633   X023XK77   150000         Moscow          False            False   \n",
       "51634  K450OC797    25000         Moscow          False            False   \n",
       "\n",
       "       significance  year  month  day  day_of_week  same_number_first  \\\n",
       "0                 0  2024     12   26            3              False   \n",
       "1                 0  2024      7   12            4              False   \n",
       "2                 0  2024      4   18            3              False   \n",
       "3                 0  2025      1    3            4              False   \n",
       "4                 0  2025      1   10            4              False   \n",
       "...             ...   ...    ...  ...          ...                ...   \n",
       "51630             0  2025      1   29            2              False   \n",
       "51631             0  2025      1   31            4              False   \n",
       "51632             0  2025      2    6            3               True   \n",
       "51633             0  2024      4   24            2              False   \n",
       "51634             0  2023     10    6            4              False   \n",
       "\n",
       "       same_number_second  matching_numbers  palindrom_numbers_first  \\\n",
       "0                   False             False                    False   \n",
       "1                   False             False                    False   \n",
       "2                    True             False                     True   \n",
       "3                   False             False                    False   \n",
       "4                   False             False                    False   \n",
       "...                   ...               ...                      ...   \n",
       "51630               False             False                    False   \n",
       "51631               False             False                    False   \n",
       "51632               False             False                     True   \n",
       "51633                True             False                    False   \n",
       "51634               False             False                    False   \n",
       "\n",
       "       palindrom_numbers_second  palidrom_all_numbers  cool_number  \\\n",
       "0                          True                 False        False   \n",
       "1                         False                 False         True   \n",
       "2                          True                 False        False   \n",
       "3                         False                 False         True   \n",
       "4                         False                 False         True   \n",
       "...                         ...                   ...          ...   \n",
       "51630                      True                 False        False   \n",
       "51631                      True                 False        False   \n",
       "51632                     False                 False        False   \n",
       "51633                      True                 False        False   \n",
       "51634                      True                 False        False   \n",
       "\n",
       "       one_unique_letter  \n",
       "0                  False  \n",
       "1                  False  \n",
       "2                  False  \n",
       "3                  False  \n",
       "4                  False  \n",
       "...                  ...  \n",
       "51630              False  \n",
       "51631              False  \n",
       "51632              False  \n",
       "51633              False  \n",
       "51634              False  \n",
       "\n",
       "[51635 rows x 18 columns]"
      ],
      "text/html": [
       "<div>\n",
       "<style scoped>\n",
       "    .dataframe tbody tr th:only-of-type {\n",
       "        vertical-align: middle;\n",
       "    }\n",
       "\n",
       "    .dataframe tbody tr th {\n",
       "        vertical-align: top;\n",
       "    }\n",
       "\n",
       "    .dataframe thead th {\n",
       "        text-align: right;\n",
       "    }\n",
       "</style>\n",
       "<table border=\"1\" class=\"dataframe\">\n",
       "  <thead>\n",
       "    <tr style=\"text-align: right;\">\n",
       "      <th></th>\n",
       "      <th>plate</th>\n",
       "      <th>price</th>\n",
       "      <th>region</th>\n",
       "      <th>forbidenToBuy</th>\n",
       "      <th>advantageOnRoad</th>\n",
       "      <th>significance</th>\n",
       "      <th>year</th>\n",
       "      <th>month</th>\n",
       "      <th>day</th>\n",
       "      <th>day_of_week</th>\n",
       "      <th>same_number_first</th>\n",
       "      <th>same_number_second</th>\n",
       "      <th>matching_numbers</th>\n",
       "      <th>palindrom_numbers_first</th>\n",
       "      <th>palindrom_numbers_second</th>\n",
       "      <th>palidrom_all_numbers</th>\n",
       "      <th>cool_number</th>\n",
       "      <th>one_unique_letter</th>\n",
       "    </tr>\n",
       "  </thead>\n",
       "  <tbody>\n",
       "    <tr>\n",
       "      <th>0</th>\n",
       "      <td>X059CP797</td>\n",
       "      <td>65000</td>\n",
       "      <td>Moscow</td>\n",
       "      <td>False</td>\n",
       "      <td>False</td>\n",
       "      <td>0</td>\n",
       "      <td>2024</td>\n",
       "      <td>12</td>\n",
       "      <td>26</td>\n",
       "      <td>3</td>\n",
       "      <td>False</td>\n",
       "      <td>False</td>\n",
       "      <td>False</td>\n",
       "      <td>False</td>\n",
       "      <td>True</td>\n",
       "      <td>False</td>\n",
       "      <td>False</td>\n",
       "      <td>False</td>\n",
       "    </tr>\n",
       "    <tr>\n",
       "      <th>1</th>\n",
       "      <td>Y800MH790</td>\n",
       "      <td>100000</td>\n",
       "      <td>Moscow Oblast</td>\n",
       "      <td>False</td>\n",
       "      <td>False</td>\n",
       "      <td>0</td>\n",
       "      <td>2024</td>\n",
       "      <td>7</td>\n",
       "      <td>12</td>\n",
       "      <td>4</td>\n",
       "      <td>False</td>\n",
       "      <td>False</td>\n",
       "      <td>False</td>\n",
       "      <td>False</td>\n",
       "      <td>False</td>\n",
       "      <td>False</td>\n",
       "      <td>True</td>\n",
       "      <td>False</td>\n",
       "    </tr>\n",
       "    <tr>\n",
       "      <th>2</th>\n",
       "      <td>A212TX77</td>\n",
       "      <td>290000</td>\n",
       "      <td>Moscow</td>\n",
       "      <td>False</td>\n",
       "      <td>False</td>\n",
       "      <td>0</td>\n",
       "      <td>2024</td>\n",
       "      <td>4</td>\n",
       "      <td>18</td>\n",
       "      <td>3</td>\n",
       "      <td>False</td>\n",
       "      <td>True</td>\n",
       "      <td>False</td>\n",
       "      <td>True</td>\n",
       "      <td>True</td>\n",
       "      <td>False</td>\n",
       "      <td>False</td>\n",
       "      <td>False</td>\n",
       "    </tr>\n",
       "    <tr>\n",
       "      <th>3</th>\n",
       "      <td>P001AY199</td>\n",
       "      <td>680000</td>\n",
       "      <td>Moscow</td>\n",
       "      <td>False</td>\n",
       "      <td>False</td>\n",
       "      <td>0</td>\n",
       "      <td>2025</td>\n",
       "      <td>1</td>\n",
       "      <td>3</td>\n",
       "      <td>4</td>\n",
       "      <td>False</td>\n",
       "      <td>False</td>\n",
       "      <td>False</td>\n",
       "      <td>False</td>\n",
       "      <td>False</td>\n",
       "      <td>False</td>\n",
       "      <td>True</td>\n",
       "      <td>False</td>\n",
       "    </tr>\n",
       "    <tr>\n",
       "      <th>4</th>\n",
       "      <td>P001AY199</td>\n",
       "      <td>750000</td>\n",
       "      <td>Moscow</td>\n",
       "      <td>False</td>\n",
       "      <td>False</td>\n",
       "      <td>0</td>\n",
       "      <td>2025</td>\n",
       "      <td>1</td>\n",
       "      <td>10</td>\n",
       "      <td>4</td>\n",
       "      <td>False</td>\n",
       "      <td>False</td>\n",
       "      <td>False</td>\n",
       "      <td>False</td>\n",
       "      <td>False</td>\n",
       "      <td>False</td>\n",
       "      <td>True</td>\n",
       "      <td>False</td>\n",
       "    </tr>\n",
       "    <tr>\n",
       "      <th>...</th>\n",
       "      <td>...</td>\n",
       "      <td>...</td>\n",
       "      <td>...</td>\n",
       "      <td>...</td>\n",
       "      <td>...</td>\n",
       "      <td>...</td>\n",
       "      <td>...</td>\n",
       "      <td>...</td>\n",
       "      <td>...</td>\n",
       "      <td>...</td>\n",
       "      <td>...</td>\n",
       "      <td>...</td>\n",
       "      <td>...</td>\n",
       "      <td>...</td>\n",
       "      <td>...</td>\n",
       "      <td>...</td>\n",
       "      <td>...</td>\n",
       "      <td>...</td>\n",
       "    </tr>\n",
       "    <tr>\n",
       "      <th>51630</th>\n",
       "      <td>X023PP797</td>\n",
       "      <td>70000</td>\n",
       "      <td>Moscow</td>\n",
       "      <td>False</td>\n",
       "      <td>False</td>\n",
       "      <td>0</td>\n",
       "      <td>2025</td>\n",
       "      <td>1</td>\n",
       "      <td>29</td>\n",
       "      <td>2</td>\n",
       "      <td>False</td>\n",
       "      <td>False</td>\n",
       "      <td>False</td>\n",
       "      <td>False</td>\n",
       "      <td>True</td>\n",
       "      <td>False</td>\n",
       "      <td>False</td>\n",
       "      <td>False</td>\n",
       "    </tr>\n",
       "    <tr>\n",
       "      <th>51631</th>\n",
       "      <td>M004KA161</td>\n",
       "      <td>1600000</td>\n",
       "      <td>Rostov Oblast</td>\n",
       "      <td>False</td>\n",
       "      <td>False</td>\n",
       "      <td>0</td>\n",
       "      <td>2025</td>\n",
       "      <td>1</td>\n",
       "      <td>31</td>\n",
       "      <td>4</td>\n",
       "      <td>False</td>\n",
       "      <td>False</td>\n",
       "      <td>False</td>\n",
       "      <td>False</td>\n",
       "      <td>True</td>\n",
       "      <td>False</td>\n",
       "      <td>False</td>\n",
       "      <td>False</td>\n",
       "    </tr>\n",
       "    <tr>\n",
       "      <th>51632</th>\n",
       "      <td>E888EB199</td>\n",
       "      <td>850000</td>\n",
       "      <td>Moscow</td>\n",
       "      <td>False</td>\n",
       "      <td>False</td>\n",
       "      <td>0</td>\n",
       "      <td>2025</td>\n",
       "      <td>2</td>\n",
       "      <td>6</td>\n",
       "      <td>3</td>\n",
       "      <td>True</td>\n",
       "      <td>False</td>\n",
       "      <td>False</td>\n",
       "      <td>True</td>\n",
       "      <td>False</td>\n",
       "      <td>False</td>\n",
       "      <td>False</td>\n",
       "      <td>False</td>\n",
       "    </tr>\n",
       "    <tr>\n",
       "      <th>51633</th>\n",
       "      <td>X023XK77</td>\n",
       "      <td>150000</td>\n",
       "      <td>Moscow</td>\n",
       "      <td>False</td>\n",
       "      <td>False</td>\n",
       "      <td>0</td>\n",
       "      <td>2024</td>\n",
       "      <td>4</td>\n",
       "      <td>24</td>\n",
       "      <td>2</td>\n",
       "      <td>False</td>\n",
       "      <td>True</td>\n",
       "      <td>False</td>\n",
       "      <td>False</td>\n",
       "      <td>True</td>\n",
       "      <td>False</td>\n",
       "      <td>False</td>\n",
       "      <td>False</td>\n",
       "    </tr>\n",
       "    <tr>\n",
       "      <th>51634</th>\n",
       "      <td>K450OC797</td>\n",
       "      <td>25000</td>\n",
       "      <td>Moscow</td>\n",
       "      <td>False</td>\n",
       "      <td>False</td>\n",
       "      <td>0</td>\n",
       "      <td>2023</td>\n",
       "      <td>10</td>\n",
       "      <td>6</td>\n",
       "      <td>4</td>\n",
       "      <td>False</td>\n",
       "      <td>False</td>\n",
       "      <td>False</td>\n",
       "      <td>False</td>\n",
       "      <td>True</td>\n",
       "      <td>False</td>\n",
       "      <td>False</td>\n",
       "      <td>False</td>\n",
       "    </tr>\n",
       "  </tbody>\n",
       "</table>\n",
       "<p>51635 rows × 18 columns</p>\n",
       "</div>"
      ]
     },
     "metadata": {},
     "output_type": "display_data"
    },
    {
     "name": "stdout",
     "output_type": "stream",
     "text": [
      "<class 'pandas.core.frame.DataFrame'>\n",
      "RangeIndex: 51635 entries, 0 to 51634\n",
      "Data columns (total 18 columns):\n",
      " #   Column                    Non-Null Count  Dtype   \n",
      "---  ------                    --------------  -----   \n",
      " 0   plate                     51635 non-null  category\n",
      " 1   price                     51635 non-null  int64   \n",
      " 2   region                    51635 non-null  category\n",
      " 3   forbidenToBuy             51635 non-null  bool    \n",
      " 4   advantageOnRoad           51635 non-null  bool    \n",
      " 5   significance              51635 non-null  int64   \n",
      " 6   year                      51635 non-null  int64   \n",
      " 7   month                     51635 non-null  int64   \n",
      " 8   day                       51635 non-null  int64   \n",
      " 9   day_of_week               51635 non-null  int64   \n",
      " 10  same_number_first         51635 non-null  bool    \n",
      " 11  same_number_second        51635 non-null  bool    \n",
      " 12  matching_numbers          51635 non-null  bool    \n",
      " 13  palindrom_numbers_first   51635 non-null  bool    \n",
      " 14  palindrom_numbers_second  51635 non-null  bool    \n",
      " 15  palidrom_all_numbers      51635 non-null  bool    \n",
      " 16  cool_number               51635 non-null  bool    \n",
      " 17  one_unique_letter         51635 non-null  bool    \n",
      "dtypes: bool(10), category(2), int64(6)\n",
      "memory usage: 4.4 MB\n"
     ]
    },
    {
     "data": {
      "text/plain": [
       "None"
      ]
     },
     "metadata": {},
     "output_type": "display_data"
    }
   ],
   "execution_count": 5
  },
  {
   "metadata": {
    "ExecuteTime": {
     "end_time": "2025-05-23T15:02:05.399393Z",
     "start_time": "2025-05-23T15:02:04.435795Z"
    }
   },
   "cell_type": "code",
   "source": [
    "plt.figure(figsize=(10, 6))\n",
    "sns.barplot(data=df, x='significance', y='price', estimator='mean')\n",
    "plt.title('Average Price by Significance')\n",
    "plt.xlabel('Significance')\n",
    "plt.ylabel('Average Price')\n",
    "plt.xticks(rotation=45)\n",
    "plt.tight_layout()\n",
    "plt.show()"
   ],
   "id": "8ed299f8431e5e40",
   "outputs": [
    {
     "data": {
      "text/plain": [
       "<Figure size 1000x600 with 1 Axes>"
      ],
      "image/png": "[encoded data removed]"
     },
     "metadata": {},
     "output_type": "display_data"
    }
   ],
   "execution_count": 18
  },
  {
   "metadata": {
    "ExecuteTime": {
     "end_time": "2025-05-23T15:02:30.887672Z",
     "start_time": "2025-05-23T15:02:30.286168Z"
    }
   },
   "cell_type": "code",
   "source": [
    "columns = [\n",
    "    \"forbidenToBuy\", \"advantageOnRoad\", \"same_number_first\", \"same_number_second\",\n",
    "    \"matching_numbers\", \"palindrom_numbers_first\", \"palindrom_numbers_second\", \"palidrom_all_numbers\", \"one_unique_letter\"\n",
    "]\n",
    "\n",
    "data = []\n",
    "for col in columns:\n",
    "    true_count = df[col].sum()\n",
    "    false_count = (~df[col]).sum()  \n",
    "    data.append({\"Feature\": col, \"Value\": \"True\", \"Count\": true_count})\n",
    "    data.append({\"Feature\": col, \"Value\": \"False\", \"Count\": false_count})\n",
    "\n",
    "dftest = pd.DataFrame(data)\n",
    "\n",
    "plt.figure(figsize=(12, 6))\n",
    "ax = sns.barplot(data=dftest, x='Feature', y='Count', hue='Value')\n",
    "for container in ax.containers:\n",
    "    ax.bar_label(container, fmt='%d', label_type='edge', padding=3)\n",
    "plt.xticks(rotation=45)\n",
    "plt.title(\"True/False Value Counts per Feature\")\n",
    "plt.tight_layout()\n",
    "plt.show()"
   ],
   "id": "af1fb2a44f9ead93",
   "outputs": [
    {
     "data": {
      "text/plain": [
       "<Figure size 1200x600 with 1 Axes>"
      ],
      "image/png": "[encoded data removed]"
     },
     "metadata": {},
     "output_type": "display_data"
    }
   ],
   "execution_count": 20
  },
  {
   "metadata": {
    "ExecuteTime": {
     "end_time": "2025-05-25T10:16:36.365575Z",
     "start_time": "2025-05-25T10:16:36.275638Z"
    }
   },
   "cell_type": "code",
   "source": "df.loc[:, ~df.columns.isin([\"plate\", \"region\"])].corr()[\"price\"].sort_values(ascending=False)",
   "id": "80b79577c1f3d6ea",
   "outputs": [
    {
     "data": {
      "text/plain": [
       "price                       1.000000\n",
       "significance                0.160626\n",
       "one_unique_letter           0.158822\n",
       "palidrom_all_numbers        0.153049\n",
       "same_number_first           0.134443\n",
       "same_number_second          0.133817\n",
       "advantageOnRoad             0.131139\n",
       "palindrom_numbers_first     0.048635\n",
       "matching_numbers            0.046933\n",
       "year                        0.046106\n",
       "palindrom_numbers_second    0.036246\n",
       "cool_number                 0.019309\n",
       "forbidenToBuy              -0.000432\n",
       "day                        -0.002189\n",
       "month                      -0.006418\n",
       "day_of_week                -0.011604\n",
       "Name: price, dtype: float64"
      ]
     },
     "execution_count": 18,
     "metadata": {},
     "output_type": "execute_result"
    }
   ],
   "execution_count": 18
  },
  {
   "metadata": {},
   "cell_type": "markdown",
   "source": "# Predikce",
   "id": "2f03d552d57c16e0"
  },
  {
   "metadata": {
    "ExecuteTime": {
     "end_time": "2025-05-25T10:20:35.961518Z",
     "start_time": "2025-05-25T10:20:35.902624Z"
    }
   },
   "cell_type": "code",
   "source": [
    "X = df.copy()\n",
    "X.drop(\"plate\", axis=1, inplace=True)\n",
    "\n",
    "X_train = X[~((X[\"year\"] == 2024) & ((X[\"month\"] == 11) | (X[\"month\"] == 12) ))]\n",
    "y_train_log = np.log1p(X_train[\"price\"])\n",
    "X_train.drop(\"price\", axis=1, inplace=True)\n",
    "\n",
    "X_val = X[(X[\"year\"] == 2024) & ((X[\"month\"] == 11) | ( (X[\"month\"] == 12) & (X[\"day\"].isin(range(5)))))]\n",
    "y_val_log = np.log1p(X_val[\"price\"])\n",
    "X_val.drop(\"price\", axis=1, inplace=True)\n",
    "\n",
    "X_test = X[(X[\"year\"] == 2024) & (X[\"month\"] == 12) & ~(X[\"day\"].isin(range(5)))]\n",
    "y_test_log = np.log1p(X_test[\"price\"])\n",
    "X_test.drop(\"price\", axis=1, inplace=True)"
   ],
   "id": "a58d914d067f2f6e",
   "outputs": [
    {
     "name": "stderr",
     "output_type": "stream",
     "text": [
      "C:\\Users\\Tom\\AppData\\Local\\Temp\\ipykernel_22620\\4261643104.py:6: SettingWithCopyWarning: \n",
      "A value is trying to be set on a copy of a slice from a DataFrame\n",
      "\n",
      "See the caveats in the documentation: https://pandas.pydata.org/pandas-docs/stable/user_guide/indexing.html#returning-a-view-versus-a-copy\n",
      "  X_train.drop(\"price\", axis=1, inplace=True)\n",
      "C:\\Users\\Tom\\AppData\\Local\\Temp\\ipykernel_22620\\4261643104.py:10: SettingWithCopyWarning: \n",
      "A value is trying to be set on a copy of a slice from a DataFrame\n",
      "\n",
      "See the caveats in the documentation: https://pandas.pydata.org/pandas-docs/stable/user_guide/indexing.html#returning-a-view-versus-a-copy\n",
      "  X_val.drop(\"price\", axis=1, inplace=True)\n",
      "C:\\Users\\Tom\\AppData\\Local\\Temp\\ipykernel_22620\\4261643104.py:14: SettingWithCopyWarning: \n",
      "A value is trying to be set on a copy of a slice from a DataFrame\n",
      "\n",
      "See the caveats in the documentation: https://pandas.pydata.org/pandas-docs/stable/user_guide/indexing.html#returning-a-view-versus-a-copy\n",
      "  X_test.drop(\"price\", axis=1, inplace=True)\n"
     ]
    }
   ],
   "execution_count": 20
  },
  {
   "metadata": {
    "ExecuteTime": {
     "end_time": "2025-05-25T10:20:37.862720Z",
     "start_time": "2025-05-25T10:20:37.846641Z"
    }
   },
   "cell_type": "code",
   "source": [
    "print(f\"Size train - X: {X_train.shape}, y: {y_train_log.shape}\")\n",
    "print(f\"Size val - X: {X_val.shape}, y: {y_val_log.shape}\")\n",
    "print(f\"Size test - X: {X_test.shape}, y: {y_test_log.shape}\")"
   ],
   "id": "bf70ef22b56a6a6f",
   "outputs": [
    {
     "name": "stdout",
     "output_type": "stream",
     "text": [
      "Size train - X: (45043, 16), y: (45043,)\n",
      "Size val - X: (3113, 16), y: (3113,)\n",
      "Size test - X: (3479, 16), y: (3479,)\n"
     ]
    }
   ],
   "execution_count": 21
  },
  {
   "metadata": {},
   "cell_type": "markdown",
   "source": "## XGBoost",
   "id": "cf68e41aa49b8274"
  },
  {
   "metadata": {
    "ExecuteTime": {
     "end_time": "2025-05-25T10:20:44.660438Z",
     "start_time": "2025-05-25T10:20:44.652144Z"
    }
   },
   "cell_type": "code",
   "source": [
    "import xgboost as xgb\n",
    "from xgboost import XGBRegressor\n",
    "from sklearn.model_selection import ParameterGrid"
   ],
   "id": "4fe161ba32a6be74",
   "outputs": [],
   "execution_count": 22
  },
  {
   "metadata": {
    "ExecuteTime": {
     "end_time": "2025-05-25T10:25:55.848739Z",
     "start_time": "2025-05-25T10:25:55.840386Z"
    }
   },
   "cell_type": "code",
   "source": [
    "param_grid = {\n",
    "    \"eta\" : [0.005 ,0.05, 0.1],\n",
    "    \"gamma\" : [0, 0.5, 1],\n",
    "    \"max_depth\" : [3, 6, 8],\n",
    "    \"subsample\" : [0.7, 0.5,  0.3],\n",
    "    \"n_estimators\" : [100, 1000, 10000]\n",
    "}"
   ],
   "id": "9a47d1920ce2b162",
   "outputs": [],
   "execution_count": 27
  },
  {
   "metadata": {
    "ExecuteTime": {
     "end_time": "2025-05-25T10:37:24.287484500Z",
     "start_time": "2025-05-25T10:26:01.088580Z"
    }
   },
   "cell_type": "code",
   "source": [
    "param_comb = ParameterGrid(param_grid)\n",
    "best_score = float('inf')\n",
    "best_param = None\n",
    "for par in param_comb:\n",
    "    clf = XGBRegressor(eval_metric=\"rmse\", enable_categorical= True, **par)\n",
    "    clf.fit(X_train, y_train_log, verbose=10)\n",
    "    \n",
    "    rmse_score = root_mean_squared_error(np.exp(y_val_log), np.exp(clf.predict(X_val)))\n",
    "    if rmse_score < best_score:\n",
    "        best_score = rmse_score\n",
    "        best_param = par\n",
    "    \n",
    "    print(f\"RMSE: {rmse_score} for param: {par}\")\n",
    "\n"
   ],
   "id": "abefc84ad6d3043d",
   "outputs": [
    {
     "name": "stdout",
     "output_type": "stream",
     "text": [
      "RMSE: 1480933.6577498657 for param: {'eta': 0.005, 'gamma': 0, 'max_depth': 3, 'n_estimators': 100, 'subsample': 0.7}\n",
      "RMSE: 1481296.2297130125 for param: {'eta': 0.005, 'gamma': 0, 'max_depth': 3, 'n_estimators': 100, 'subsample': 0.5}\n",
      "RMSE: 1481534.3614513904 for param: {'eta': 0.005, 'gamma': 0, 'max_depth': 3, 'n_estimators': 100, 'subsample': 0.3}\n",
      "RMSE: 1345973.937795547 for param: {'eta': 0.005, 'gamma': 0, 'max_depth': 3, 'n_estimators': 1000, 'subsample': 0.7}\n",
      "RMSE: 1346437.1050365502 for param: {'eta': 0.005, 'gamma': 0, 'max_depth': 3, 'n_estimators': 1000, 'subsample': 0.5}\n",
      "RMSE: 1351054.8768483568 for param: {'eta': 0.005, 'gamma': 0, 'max_depth': 3, 'n_estimators': 1000, 'subsample': 0.3}\n",
      "RMSE: 1285012.3040064524 for param: {'eta': 0.005, 'gamma': 0, 'max_depth': 3, 'n_estimators': 10000, 'subsample': 0.7}\n",
      "RMSE: 1287013.8085615176 for param: {'eta': 0.005, 'gamma': 0, 'max_depth': 3, 'n_estimators': 10000, 'subsample': 0.5}\n",
      "RMSE: 1294233.4091052467 for param: {'eta': 0.005, 'gamma': 0, 'max_depth': 3, 'n_estimators': 10000, 'subsample': 0.3}\n",
      "RMSE: 1464617.5641109336 for param: {'eta': 0.005, 'gamma': 0, 'max_depth': 6, 'n_estimators': 100, 'subsample': 0.7}\n",
      "RMSE: 1465779.7226168925 for param: {'eta': 0.005, 'gamma': 0, 'max_depth': 6, 'n_estimators': 100, 'subsample': 0.5}\n",
      "RMSE: 1467711.0531483751 for param: {'eta': 0.005, 'gamma': 0, 'max_depth': 6, 'n_estimators': 100, 'subsample': 0.3}\n",
      "RMSE: 1274573.5824231263 for param: {'eta': 0.005, 'gamma': 0, 'max_depth': 6, 'n_estimators': 1000, 'subsample': 0.7}\n",
      "RMSE: 1278801.4282244304 for param: {'eta': 0.005, 'gamma': 0, 'max_depth': 6, 'n_estimators': 1000, 'subsample': 0.5}\n",
      "RMSE: 1286427.5865337478 for param: {'eta': 0.005, 'gamma': 0, 'max_depth': 6, 'n_estimators': 1000, 'subsample': 0.3}\n",
      "RMSE: 1246226.187389196 for param: {'eta': 0.005, 'gamma': 0, 'max_depth': 6, 'n_estimators': 10000, 'subsample': 0.7}\n",
      "RMSE: 1251832.1356504476 for param: {'eta': 0.005, 'gamma': 0, 'max_depth': 6, 'n_estimators': 10000, 'subsample': 0.5}\n",
      "RMSE: 1252962.141544894 for param: {'eta': 0.005, 'gamma': 0, 'max_depth': 6, 'n_estimators': 10000, 'subsample': 0.3}\n",
      "RMSE: 1463285.9694518065 for param: {'eta': 0.005, 'gamma': 0, 'max_depth': 8, 'n_estimators': 100, 'subsample': 0.7}\n",
      "RMSE: 1464268.471741843 for param: {'eta': 0.005, 'gamma': 0, 'max_depth': 8, 'n_estimators': 100, 'subsample': 0.5}\n",
      "RMSE: 1466041.5510708608 for param: {'eta': 0.005, 'gamma': 0, 'max_depth': 8, 'n_estimators': 100, 'subsample': 0.3}\n",
      "RMSE: 1280622.543432628 for param: {'eta': 0.005, 'gamma': 0, 'max_depth': 8, 'n_estimators': 1000, 'subsample': 0.7}\n",
      "RMSE: 1279432.5627506198 for param: {'eta': 0.005, 'gamma': 0, 'max_depth': 8, 'n_estimators': 1000, 'subsample': 0.5}\n",
      "RMSE: 1285060.9541506032 for param: {'eta': 0.005, 'gamma': 0, 'max_depth': 8, 'n_estimators': 1000, 'subsample': 0.3}\n",
      "RMSE: 1284373.2575344525 for param: {'eta': 0.005, 'gamma': 0, 'max_depth': 8, 'n_estimators': 10000, 'subsample': 0.7}\n",
      "RMSE: 1276841.5115406201 for param: {'eta': 0.005, 'gamma': 0, 'max_depth': 8, 'n_estimators': 10000, 'subsample': 0.5}\n",
      "RMSE: 1281948.9661962157 for param: {'eta': 0.005, 'gamma': 0, 'max_depth': 8, 'n_estimators': 10000, 'subsample': 0.3}\n",
      "RMSE: 1480933.6577498657 for param: {'eta': 0.005, 'gamma': 0.5, 'max_depth': 3, 'n_estimators': 100, 'subsample': 0.7}\n",
      "RMSE: 1481296.2297130125 for param: {'eta': 0.005, 'gamma': 0.5, 'max_depth': 3, 'n_estimators': 100, 'subsample': 0.5}\n",
      "RMSE: 1481534.3614513904 for param: {'eta': 0.005, 'gamma': 0.5, 'max_depth': 3, 'n_estimators': 100, 'subsample': 0.3}\n",
      "RMSE: 1345838.9228675729 for param: {'eta': 0.005, 'gamma': 0.5, 'max_depth': 3, 'n_estimators': 1000, 'subsample': 0.7}\n",
      "RMSE: 1346437.4205562929 for param: {'eta': 0.005, 'gamma': 0.5, 'max_depth': 3, 'n_estimators': 1000, 'subsample': 0.5}\n",
      "RMSE: 1351098.4841215243 for param: {'eta': 0.005, 'gamma': 0.5, 'max_depth': 3, 'n_estimators': 1000, 'subsample': 0.3}\n",
      "RMSE: 1284611.0689058478 for param: {'eta': 0.005, 'gamma': 0.5, 'max_depth': 3, 'n_estimators': 10000, 'subsample': 0.7}\n",
      "RMSE: 1286831.6440803648 for param: {'eta': 0.005, 'gamma': 0.5, 'max_depth': 3, 'n_estimators': 10000, 'subsample': 0.5}\n",
      "RMSE: 1294674.6483155906 for param: {'eta': 0.005, 'gamma': 0.5, 'max_depth': 3, 'n_estimators': 10000, 'subsample': 0.3}\n",
      "RMSE: 1464583.6948584642 for param: {'eta': 0.005, 'gamma': 0.5, 'max_depth': 6, 'n_estimators': 100, 'subsample': 0.7}\n",
      "RMSE: 1465793.2142983992 for param: {'eta': 0.005, 'gamma': 0.5, 'max_depth': 6, 'n_estimators': 100, 'subsample': 0.5}\n",
      "RMSE: 1467800.0662117826 for param: {'eta': 0.005, 'gamma': 0.5, 'max_depth': 6, 'n_estimators': 100, 'subsample': 0.3}\n",
      "RMSE: 1273985.1301020603 for param: {'eta': 0.005, 'gamma': 0.5, 'max_depth': 6, 'n_estimators': 1000, 'subsample': 0.7}\n",
      "RMSE: 1278486.2904228058 for param: {'eta': 0.005, 'gamma': 0.5, 'max_depth': 6, 'n_estimators': 1000, 'subsample': 0.5}\n",
      "RMSE: 1286388.6219426936 for param: {'eta': 0.005, 'gamma': 0.5, 'max_depth': 6, 'n_estimators': 1000, 'subsample': 0.3}\n",
      "RMSE: 1246224.6627382431 for param: {'eta': 0.005, 'gamma': 0.5, 'max_depth': 6, 'n_estimators': 10000, 'subsample': 0.7}\n",
      "RMSE: 1251061.3573319584 for param: {'eta': 0.005, 'gamma': 0.5, 'max_depth': 6, 'n_estimators': 10000, 'subsample': 0.5}\n",
      "RMSE: 1255606.2031399235 for param: {'eta': 0.005, 'gamma': 0.5, 'max_depth': 6, 'n_estimators': 10000, 'subsample': 0.3}\n",
      "RMSE: 1463166.3529321784 for param: {'eta': 0.005, 'gamma': 0.5, 'max_depth': 8, 'n_estimators': 100, 'subsample': 0.7}\n",
      "RMSE: 1464079.5906042962 for param: {'eta': 0.005, 'gamma': 0.5, 'max_depth': 8, 'n_estimators': 100, 'subsample': 0.5}\n",
      "RMSE: 1466037.1866753497 for param: {'eta': 0.005, 'gamma': 0.5, 'max_depth': 8, 'n_estimators': 100, 'subsample': 0.3}\n",
      "RMSE: 1276444.7072403664 for param: {'eta': 0.005, 'gamma': 0.5, 'max_depth': 8, 'n_estimators': 1000, 'subsample': 0.7}\n",
      "RMSE: 1275851.974173701 for param: {'eta': 0.005, 'gamma': 0.5, 'max_depth': 8, 'n_estimators': 1000, 'subsample': 0.5}\n",
      "RMSE: 1281100.136977826 for param: {'eta': 0.005, 'gamma': 0.5, 'max_depth': 8, 'n_estimators': 1000, 'subsample': 0.3}\n",
      "RMSE: 1267336.2240528723 for param: {'eta': 0.005, 'gamma': 0.5, 'max_depth': 8, 'n_estimators': 10000, 'subsample': 0.7}\n"
     ]
    },
    {
     "ename": "KeyboardInterrupt",
     "evalue": "",
     "output_type": "error",
     "traceback": [
      "\u001B[31m---------------------------------------------------------------------------\u001B[39m",
      "\u001B[31mKeyboardInterrupt\u001B[39m                         Traceback (most recent call last)",
      "\u001B[36mCell\u001B[39m\u001B[36m \u001B[39m\u001B[32mIn[28]\u001B[39m\u001B[32m, line 6\u001B[39m\n\u001B[32m      4\u001B[39m \u001B[38;5;28;01mfor\u001B[39;00m par \u001B[38;5;129;01min\u001B[39;00m param_comb:\n\u001B[32m      5\u001B[39m     clf = XGBRegressor(eval_metric=\u001B[33m\"\u001B[39m\u001B[33mrmse\u001B[39m\u001B[33m\"\u001B[39m, enable_categorical= \u001B[38;5;28;01mTrue\u001B[39;00m, **par)\n\u001B[32m----> \u001B[39m\u001B[32m6\u001B[39m     \u001B[43mclf\u001B[49m\u001B[43m.\u001B[49m\u001B[43mfit\u001B[49m\u001B[43m(\u001B[49m\u001B[43mX_train\u001B[49m\u001B[43m,\u001B[49m\u001B[43m \u001B[49m\u001B[43my_train_log\u001B[49m\u001B[43m,\u001B[49m\u001B[43m \u001B[49m\u001B[43mverbose\u001B[49m\u001B[43m=\u001B[49m\u001B[32;43m10\u001B[39;49m\u001B[43m)\u001B[49m\n\u001B[32m      8\u001B[39m     rmse_score = root_mean_squared_error(np.exp(y_val_log), np.exp(clf.predict(X_val)))\n\u001B[32m      9\u001B[39m     \u001B[38;5;28;01mif\u001B[39;00m rmse_score < best_score:\n",
      "\u001B[36mFile \u001B[39m\u001B[32mC:\\tom\\moje\\Russian-Car-Plates-Prices-Prediction\\.venv\\Lib\\site-packages\\xgboost\\core.py:729\u001B[39m, in \u001B[36mrequire_keyword_args.<locals>.throw_if.<locals>.inner_f\u001B[39m\u001B[34m(*args, **kwargs)\u001B[39m\n\u001B[32m    727\u001B[39m \u001B[38;5;28;01mfor\u001B[39;00m k, arg \u001B[38;5;129;01min\u001B[39;00m \u001B[38;5;28mzip\u001B[39m(sig.parameters, args):\n\u001B[32m    728\u001B[39m     kwargs[k] = arg\n\u001B[32m--> \u001B[39m\u001B[32m729\u001B[39m \u001B[38;5;28;01mreturn\u001B[39;00m \u001B[43mfunc\u001B[49m\u001B[43m(\u001B[49m\u001B[43m*\u001B[49m\u001B[43m*\u001B[49m\u001B[43mkwargs\u001B[49m\u001B[43m)\u001B[49m\n",
      "\u001B[36mFile \u001B[39m\u001B[32mC:\\tom\\moje\\Russian-Car-Plates-Prices-Prediction\\.venv\\Lib\\site-packages\\xgboost\\sklearn.py:1247\u001B[39m, in \u001B[36mXGBModel.fit\u001B[39m\u001B[34m(self, X, y, sample_weight, base_margin, eval_set, verbose, xgb_model, sample_weight_eval_set, base_margin_eval_set, feature_weights)\u001B[39m\n\u001B[32m   1244\u001B[39m \u001B[38;5;28;01melse\u001B[39;00m:\n\u001B[32m   1245\u001B[39m     obj = \u001B[38;5;28;01mNone\u001B[39;00m\n\u001B[32m-> \u001B[39m\u001B[32m1247\u001B[39m \u001B[38;5;28mself\u001B[39m._Booster = \u001B[43mtrain\u001B[49m\u001B[43m(\u001B[49m\n\u001B[32m   1248\u001B[39m \u001B[43m    \u001B[49m\u001B[43mparams\u001B[49m\u001B[43m,\u001B[49m\n\u001B[32m   1249\u001B[39m \u001B[43m    \u001B[49m\u001B[43mtrain_dmatrix\u001B[49m\u001B[43m,\u001B[49m\n\u001B[32m   1250\u001B[39m \u001B[43m    \u001B[49m\u001B[38;5;28;43mself\u001B[39;49m\u001B[43m.\u001B[49m\u001B[43mget_num_boosting_rounds\u001B[49m\u001B[43m(\u001B[49m\u001B[43m)\u001B[49m\u001B[43m,\u001B[49m\n\u001B[32m   1251\u001B[39m \u001B[43m    \u001B[49m\u001B[43mevals\u001B[49m\u001B[43m=\u001B[49m\u001B[43mevals\u001B[49m\u001B[43m,\u001B[49m\n\u001B[32m   1252\u001B[39m \u001B[43m    \u001B[49m\u001B[43mearly_stopping_rounds\u001B[49m\u001B[43m=\u001B[49m\u001B[38;5;28;43mself\u001B[39;49m\u001B[43m.\u001B[49m\u001B[43mearly_stopping_rounds\u001B[49m\u001B[43m,\u001B[49m\n\u001B[32m   1253\u001B[39m \u001B[43m    \u001B[49m\u001B[43mevals_result\u001B[49m\u001B[43m=\u001B[49m\u001B[43mevals_result\u001B[49m\u001B[43m,\u001B[49m\n\u001B[32m   1254\u001B[39m \u001B[43m    \u001B[49m\u001B[43mobj\u001B[49m\u001B[43m=\u001B[49m\u001B[43mobj\u001B[49m\u001B[43m,\u001B[49m\n\u001B[32m   1255\u001B[39m \u001B[43m    \u001B[49m\u001B[43mcustom_metric\u001B[49m\u001B[43m=\u001B[49m\u001B[43mmetric\u001B[49m\u001B[43m,\u001B[49m\n\u001B[32m   1256\u001B[39m \u001B[43m    \u001B[49m\u001B[43mverbose_eval\u001B[49m\u001B[43m=\u001B[49m\u001B[43mverbose\u001B[49m\u001B[43m,\u001B[49m\n\u001B[32m   1257\u001B[39m \u001B[43m    \u001B[49m\u001B[43mxgb_model\u001B[49m\u001B[43m=\u001B[49m\u001B[43mmodel\u001B[49m\u001B[43m,\u001B[49m\n\u001B[32m   1258\u001B[39m \u001B[43m    \u001B[49m\u001B[43mcallbacks\u001B[49m\u001B[43m=\u001B[49m\u001B[38;5;28;43mself\u001B[39;49m\u001B[43m.\u001B[49m\u001B[43mcallbacks\u001B[49m\u001B[43m,\u001B[49m\n\u001B[32m   1259\u001B[39m \u001B[43m\u001B[49m\u001B[43m)\u001B[49m\n\u001B[32m   1261\u001B[39m \u001B[38;5;28mself\u001B[39m._set_evaluation_result(evals_result)\n\u001B[32m   1262\u001B[39m \u001B[38;5;28;01mreturn\u001B[39;00m \u001B[38;5;28mself\u001B[39m\n",
      "\u001B[36mFile \u001B[39m\u001B[32mC:\\tom\\moje\\Russian-Car-Plates-Prices-Prediction\\.venv\\Lib\\site-packages\\xgboost\\core.py:729\u001B[39m, in \u001B[36mrequire_keyword_args.<locals>.throw_if.<locals>.inner_f\u001B[39m\u001B[34m(*args, **kwargs)\u001B[39m\n\u001B[32m    727\u001B[39m \u001B[38;5;28;01mfor\u001B[39;00m k, arg \u001B[38;5;129;01min\u001B[39;00m \u001B[38;5;28mzip\u001B[39m(sig.parameters, args):\n\u001B[32m    728\u001B[39m     kwargs[k] = arg\n\u001B[32m--> \u001B[39m\u001B[32m729\u001B[39m \u001B[38;5;28;01mreturn\u001B[39;00m \u001B[43mfunc\u001B[49m\u001B[43m(\u001B[49m\u001B[43m*\u001B[49m\u001B[43m*\u001B[49m\u001B[43mkwargs\u001B[49m\u001B[43m)\u001B[49m\n",
      "\u001B[36mFile \u001B[39m\u001B[32mC:\\tom\\moje\\Russian-Car-Plates-Prices-Prediction\\.venv\\Lib\\site-packages\\xgboost\\training.py:183\u001B[39m, in \u001B[36mtrain\u001B[39m\u001B[34m(params, dtrain, num_boost_round, evals, obj, maximize, early_stopping_rounds, evals_result, verbose_eval, xgb_model, callbacks, custom_metric)\u001B[39m\n\u001B[32m    181\u001B[39m \u001B[38;5;28;01mif\u001B[39;00m cb_container.before_iteration(bst, i, dtrain, evals):\n\u001B[32m    182\u001B[39m     \u001B[38;5;28;01mbreak\u001B[39;00m\n\u001B[32m--> \u001B[39m\u001B[32m183\u001B[39m \u001B[43mbst\u001B[49m\u001B[43m.\u001B[49m\u001B[43mupdate\u001B[49m\u001B[43m(\u001B[49m\u001B[43mdtrain\u001B[49m\u001B[43m,\u001B[49m\u001B[43m \u001B[49m\u001B[43miteration\u001B[49m\u001B[43m=\u001B[49m\u001B[43mi\u001B[49m\u001B[43m,\u001B[49m\u001B[43m \u001B[49m\u001B[43mfobj\u001B[49m\u001B[43m=\u001B[49m\u001B[43mobj\u001B[49m\u001B[43m)\u001B[49m\n\u001B[32m    184\u001B[39m \u001B[38;5;28;01mif\u001B[39;00m cb_container.after_iteration(bst, i, dtrain, evals):\n\u001B[32m    185\u001B[39m     \u001B[38;5;28;01mbreak\u001B[39;00m\n",
      "\u001B[36mFile \u001B[39m\u001B[32mC:\\tom\\moje\\Russian-Car-Plates-Prices-Prediction\\.venv\\Lib\\site-packages\\xgboost\\core.py:2247\u001B[39m, in \u001B[36mBooster.update\u001B[39m\u001B[34m(self, dtrain, iteration, fobj)\u001B[39m\n\u001B[32m   2243\u001B[39m \u001B[38;5;28mself\u001B[39m._assign_dmatrix_features(dtrain)\n\u001B[32m   2245\u001B[39m \u001B[38;5;28;01mif\u001B[39;00m fobj \u001B[38;5;129;01mis\u001B[39;00m \u001B[38;5;28;01mNone\u001B[39;00m:\n\u001B[32m   2246\u001B[39m     _check_call(\n\u001B[32m-> \u001B[39m\u001B[32m2247\u001B[39m         \u001B[43m_LIB\u001B[49m\u001B[43m.\u001B[49m\u001B[43mXGBoosterUpdateOneIter\u001B[49m\u001B[43m(\u001B[49m\n\u001B[32m   2248\u001B[39m \u001B[43m            \u001B[49m\u001B[38;5;28;43mself\u001B[39;49m\u001B[43m.\u001B[49m\u001B[43mhandle\u001B[49m\u001B[43m,\u001B[49m\u001B[43m \u001B[49m\u001B[43mctypes\u001B[49m\u001B[43m.\u001B[49m\u001B[43mc_int\u001B[49m\u001B[43m(\u001B[49m\u001B[43miteration\u001B[49m\u001B[43m)\u001B[49m\u001B[43m,\u001B[49m\u001B[43m \u001B[49m\u001B[43mdtrain\u001B[49m\u001B[43m.\u001B[49m\u001B[43mhandle\u001B[49m\n\u001B[32m   2249\u001B[39m \u001B[43m        \u001B[49m\u001B[43m)\u001B[49m\n\u001B[32m   2250\u001B[39m     )\n\u001B[32m   2251\u001B[39m \u001B[38;5;28;01melse\u001B[39;00m:\n\u001B[32m   2252\u001B[39m     pred = \u001B[38;5;28mself\u001B[39m.predict(dtrain, output_margin=\u001B[38;5;28;01mTrue\u001B[39;00m, training=\u001B[38;5;28;01mTrue\u001B[39;00m)\n",
      "\u001B[31mKeyboardInterrupt\u001B[39m: "
     ]
    }
   ],
   "execution_count": 28
  },
  {
   "metadata": {
    "ExecuteTime": {
     "end_time": "2025-05-25T10:40:58.670763Z",
     "start_time": "2025-05-25T10:40:58.654659Z"
    }
   },
   "cell_type": "code",
   "source": "best_param",
   "id": "8df251dc45281b75",
   "outputs": [
    {
     "data": {
      "text/plain": [
       "{'eta': 0.005,\n",
       " 'gamma': 0.5,\n",
       " 'max_depth': 6,\n",
       " 'n_estimators': 10000,\n",
       " 'subsample': 0.7}"
      ]
     },
     "execution_count": 29,
     "metadata": {},
     "output_type": "execute_result"
    }
   ],
   "execution_count": 29
  },
  {
   "metadata": {
    "ExecuteTime": {
     "end_time": "2025-05-25T10:42:07.125816Z",
     "start_time": "2025-05-25T10:41:18.573707Z"
    }
   },
   "cell_type": "code",
   "source": [
    "clf = XGBRegressor(eval_metric=\"rmse\", enable_categorical= True, **best_param)\n",
    "clf.fit(X_train, y_train_log, verbose=10)\n",
    "pred_val = clf.predict(X_val)\n",
    "rmse_val = root_mean_squared_error(np.exp(y_val_log), np.exp(pred_val))\n",
    "\n",
    "pred_test = clf.predict(X_test)\n",
    "rmse_test = root_mean_squared_error(np.exp(y_test_log), np.exp(pred_test))\n",
    "\n",
    "print(f\"Validation RMSE: {rmse_val}\")\n",
    "print(f\"Test RMSE: {rmse_test}\")"
   ],
   "id": "d661b44054eb7ed8",
   "outputs": [
    {
     "name": "stdout",
     "output_type": "stream",
     "text": [
      "Validation RMSE: 1246224.6627382431\n",
      "Test RMSE: 1146588.867217791\n"
     ]
    }
   ],
   "execution_count": 30
  },
  {
   "metadata": {
    "ExecuteTime": {
     "end_time": "2025-05-25T10:42:07.600218Z",
     "start_time": "2025-05-25T10:42:07.242772Z"
    }
   },
   "cell_type": "code",
   "source": "xgb.plot_importance(clf)",
   "id": "14f5d0e7c9854b4f",
   "outputs": [
    {
     "data": {
      "text/plain": [
       "<Axes: title={'center': 'Feature importance'}, xlabel='Importance score', ylabel='Features'>"
      ]
     },
     "execution_count": 31,
     "metadata": {},
     "output_type": "execute_result"
    },
    {
     "data": {
      "text/plain": [
       "<Figure size 640x480 with 1 Axes>"
      ],
      "image/png": "[encoded data removed]"
     },
     "metadata": {},
     "output_type": "display_data"
    }
   ],
   "execution_count": 31
  },
  {
   "metadata": {
    "ExecuteTime": {
     "end_time": "2025-05-25T10:42:11.865125Z",
     "start_time": "2025-05-25T10:42:11.849846Z"
    }
   },
   "cell_type": "code",
   "source": [
    "def calculate_smape(actual, predicted):\n",
    "    return np.mean( np.abs(predicted - actual) / ((np.abs(predicted) + np.abs(actual))/2))*100\n",
    "    \n",
    "\n",
    "print(f\"SMAPE for Validation: {calculate_smape(np.exp(y_val_log), np.exp(pred_val)):.2f}\")\n",
    "print(f\"SMAPE for Test: {calculate_smape(np.exp(y_test_log), np.exp(pred_test)):.2f}\")"
   ],
   "id": "ec32775ab004cc52",
   "outputs": [
    {
     "name": "stdout",
     "output_type": "stream",
     "text": [
      "SMAPE for Validation: 59.10\n",
      "SMAPE for Test: 53.72\n"
     ]
    }
   ],
   "execution_count": 32
  },
  {
   "metadata": {},
   "cell_type": "markdown",
   "source": "# Submission",
   "id": "6f654d514d3b4859"
  },
  {
   "metadata": {
    "ExecuteTime": {
     "end_time": "2025-05-25T10:50:17.151641Z",
     "start_time": "2025-05-25T10:50:14.922039Z"
    }
   },
   "cell_type": "code",
   "source": [
    "df_test_raw = pd.read_csv(\"test.csv\")\n",
    "df_test = preprocess(df_test_raw)\n",
    "\n",
    "EXCLUDE_COLS = [\"id\", \"price\", \"plate\"]\n",
    "INCLUDE_COLS = [c for c in df_test.columns if c not in EXCLUDE_COLS]\n",
    "\n",
    "predicted = np.exp(clf.predict(df_test[INCLUDE_COLS]))\n",
    "\n",
    "submission = pd.DataFrame({\n",
    "    'id': df_test_raw['id'],\n",
    "    'price': predicted\n",
    "})\n",
    "submission.to_csv('submission.csv', index=False)"
   ],
   "id": "61391cb807d06b7f",
   "outputs": [],
   "execution_count": 38
  }
 ],
 "metadata": {
  "kernelspec": {
   "display_name": "Python 3",
   "language": "python",
   "name": "python3"
  },
  "language_info": {
   "codemirror_mode": {
    "name": "ipython",
    "version": 2
   },
   "file_extension": ".py",
   "mimetype": "text/x-python",
   "name": "python",
   "nbconvert_exporter": "python",
   "pygments_lexer": "ipython2",
   "version": "2.7.6"
  }
 },
 "nbformat": 4,
 "nbformat_minor": 5
}
